{
 "cells": [
  {
   "cell_type": "markdown",
   "metadata": {},
   "source": [
    "# Natural Language Processing on Restaurant Reviews"
   ]
  },
  {
   "cell_type": "markdown",
   "metadata": {},
   "source": [
    "Importing libraries"
   ]
  },
  {
   "cell_type": "code",
   "execution_count": 117,
   "metadata": {
    "_cell_guid": "b1076dfc-b9ad-4769-8c92-a6c4dae69d19",
    "_uuid": "8f2839f25d086af736a60e9eeb907d3b93b6e0e5"
   },
   "outputs": [],
   "source": [
    "import numpy as np \n",
    "import pandas as pd\n",
    "import spacy\n",
    "\n",
    "data = pd.read_csv(\"../input/Restaurant_Reviews.tsv\",delimiter=\"\\t\")\n",
    "nlp = spacy.load('en_core_web_sm')\n"
   ]
  },
  {
   "cell_type": "markdown",
   "metadata": {},
   "source": [
    "Forming separate lists of adjectives and interjections used in case of positive and negative reviews"
   ]
  },
  {
   "cell_type": "code",
   "execution_count": 118,
   "metadata": {
    "_cell_guid": "79c7e3d0-c299-4dcb-8224-4455121ee9b0",
    "_uuid": "d629ff2d2480ee46fbb7e2d37f6b5fab8052498a"
   },
   "outputs": [],
   "source": [
    "Liked_list = []\n",
    "NLiked_list = []\n",
    "for i in range(1000):\n",
    "    review = data['Review'][i]\n",
    "    review = nlp(review)\n",
    "    for token in review:        \n",
    "        if((token.pos_ =='ADJ' or token.pos=='INTJ') and data['Liked'][i]):\n",
    "            Liked_list.extend([token.lemma_])\n",
    "        elif(token.pos_ =='ADJ' or token.pos=='INTJ'):\n",
    "            NLiked_list.extend([token.lemma_])\n",
    "    "
   ]
  },
  {
   "cell_type": "code",
   "execution_count": 120,
   "metadata": {
    "_uuid": "90866dc25d4c0c029feb67efcffeb01bbf80ed72"
   },
   "outputs": [],
   "source": [
    "NLiked_list = pd.DataFrame(NLiked_list)\n",
    "NLiked_list.columns = ['keys']\n",
    "Liked_list = pd.DataFrame(Liked_list)\n",
    "Liked_list.columns = ['keys']\n",
    "NLiked_list= NLiked_list[NLiked_list!='-PRON-']\n",
    "Liked_list= Liked_list[Liked_list!='-PRON-']"
   ]
  },
  {
   "cell_type": "markdown",
   "metadata": {},
   "source": [
    "List of keywords appearing in positive reviews in decreasing order of frequency"
   ]
  },
  {
   "cell_type": "code",
   "execution_count": 121,
   "metadata": {
    "_uuid": "201f8b177d4290ee5336ba177b827fd967b4cb39"
   },
   "outputs": [
    {
     "data": {
      "text/plain": [
       "keys\n",
       "good           92\n",
       "great          68\n",
       "friendly       24\n",
       "amazing        22\n",
       "nice           22\n",
       "delicious      20\n",
       "fantastic      12\n",
       "awesome        12\n",
       "first          11\n",
       "fresh          10\n",
       "happy           9\n",
       "perfect         9\n",
       "excellent       9\n",
       "which           9\n",
       "all             7\n",
       "wonderful       7\n",
       "tasty           7\n",
       "clean           7\n",
       "that            6\n",
       "spicy           6\n",
       "attentive       6\n",
       "little          5\n",
       "reasonable      5\n",
       "next            5\n",
       "worth           5\n",
       "best            4\n",
       "other           4\n",
       "large           4\n",
       "incredible      4\n",
       "authentic       4\n",
       "               ..\n",
       "hungry          1\n",
       "hooked          1\n",
       "honest          1\n",
       "hawaiian        1\n",
       "hard            1\n",
       "handmade        1\n",
       "military        1\n",
       "modern          1\n",
       "pricey          1\n",
       "much            1\n",
       "powdered        1\n",
       "possible        1\n",
       "positive        1\n",
       "pneumatic       1\n",
       "pink            1\n",
       "phenomenal      1\n",
       "personable      1\n",
       "pecan           1\n",
       "patio           1\n",
       "overwhelmed     1\n",
       "overall         1\n",
       "outside         1\n",
       "outdoor         1\n",
       "original        1\n",
       "old             1\n",
       "occasional      1\n",
       "non             1\n",
       "multiple        1\n",
       "multi           1\n",
       "absolutley      1\n",
       "Name: keys, Length: 245, dtype: int64"
      ]
     },
     "execution_count": 121,
     "metadata": {},
     "output_type": "execute_result"
    }
   ],
   "source": [
    "Liked_list.groupby('keys')['keys'].count().sort_values(ascending = False)"
   ]
  },
  {
   "cell_type": "markdown",
   "metadata": {},
   "source": [
    "List of keywords appearing in negative reviews in decreasing order of frequency"
   ]
  },
  {
   "cell_type": "code",
   "execution_count": 122,
   "metadata": {
    "_uuid": "40d370699c43e6f4dea72c6efa233aa7ba703c6f"
   },
   "outputs": [
    {
     "data": {
      "text/plain": [
       "keys\n",
       "good             39\n",
       "bad              34\n",
       "that             17\n",
       "disappointed     14\n",
       "which            12\n",
       "slow             11\n",
       "more             10\n",
       "other            10\n",
       "terrible         10\n",
       "bland             9\n",
       "cold              8\n",
       "rude              7\n",
       "impressed         7\n",
       "much              7\n",
       "horrible          6\n",
       "poor              6\n",
       "few               6\n",
       "many              6\n",
       "disappointing     5\n",
       "worth             5\n",
       "dry               5\n",
       "old               5\n",
       "sick              5\n",
       "little            5\n",
       "sure              5\n",
       "tasteless         5\n",
       "hot               5\n",
       "average           4\n",
       "only              4\n",
       "fresh             4\n",
       "                 ..\n",
       "loyal             1\n",
       "low               1\n",
       "lined             1\n",
       "large             1\n",
       "indoor            1\n",
       "ridiculous        1\n",
       "indian            1\n",
       "impressive        1\n",
       "human             1\n",
       "huge              1\n",
       "hilarious         1\n",
       "half              1\n",
       "most              1\n",
       "multiple          1\n",
       "neat              1\n",
       "negligent         1\n",
       "non               1\n",
       "nude              1\n",
       "overwhelmed       1\n",
       "pale              1\n",
       "particular        1\n",
       "petrified         1\n",
       "pleasant          1\n",
       "polite            1\n",
       "privileged        1\n",
       "profound          1\n",
       "quick             1\n",
       "recent            1\n",
       "red               1\n",
       "actual            1\n",
       "Name: keys, Length: 202, dtype: int64"
      ]
     },
     "execution_count": 122,
     "metadata": {},
     "output_type": "execute_result"
    }
   ],
   "source": [
    "NLiked_list.groupby('keys')['keys'].count().sort_values(ascending = False)"
   ]
  }
 ],
 "metadata": {
  "kernelspec": {
   "display_name": "Python 3",
   "language": "python",
   "name": "python3"
  },
  "language_info": {
   "codemirror_mode": {
    "name": "ipython",
    "version": 3
   },
   "file_extension": ".py",
   "mimetype": "text/x-python",
   "name": "python",
   "nbconvert_exporter": "python",
   "pygments_lexer": "ipython3",
   "version": "3.6.5"
  }
 },
 "nbformat": 4,
 "nbformat_minor": 1
}
